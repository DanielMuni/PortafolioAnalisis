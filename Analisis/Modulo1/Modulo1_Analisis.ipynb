{
  "nbformat": 4,
  "nbformat_minor": 0,
  "metadata": {
    "colab": {
      "provenance": []
    },
    "kernelspec": {
      "name": "python3",
      "display_name": "Python 3"
    },
    "language_info": {
      "name": "python"
    }
  },
  "cells": [
    {
      "cell_type": "markdown",
      "source": [
        "En primer lugar procedo a importar las bibliotecas para poder trabajar con spark, asi como realizar la inicialisacion del mismo"
      ],
      "metadata": {
        "id": "n9nxBqGPoU89"
      }
    },
    {
      "cell_type": "code",
      "execution_count": 73,
      "metadata": {
        "colab": {
          "base_uri": "https://localhost:8080/",
          "height": 393
        },
        "id": "23O-nKuYYRy-",
        "outputId": "6cbed8d1-208a-4b01-fded-0a0037b6fa8c"
      },
      "outputs": [
        {
          "output_type": "stream",
          "name": "stdout",
          "text": [
            "\u001b[33m\r0% [Working]\u001b[0m\r            \rHit:1 https://cloud.r-project.org/bin/linux/ubuntu bionic-cran40/ InRelease\n",
            "\u001b[33m\r0% [Connecting to archive.ubuntu.com (91.189.91.38)] [Waiting for headers] [Wai\u001b[0m\r                                                                               \rIgn:2 https://developer.download.nvidia.com/compute/machine-learning/repos/ubuntu1804/x86_64  InRelease\n",
            "\u001b[33m\r0% [Connecting to archive.ubuntu.com (91.189.91.38)] [Waiting for headers] [Wai\u001b[0m\r                                                                               \rHit:3 https://developer.download.nvidia.com/compute/cuda/repos/ubuntu1804/x86_64  InRelease\n",
            "\u001b[33m\r0% [Connecting to archive.ubuntu.com (91.189.91.38)] [Waiting for headers] [Con\u001b[0m\u001b[33m\r0% [1 InRelease gpgv 3,626 B] [Connecting to archive.ubuntu.com (91.189.91.38)]\u001b[0m\r                                                                               \rHit:4 https://developer.download.nvidia.com/compute/machine-learning/repos/ubuntu1804/x86_64  Release\n",
            "\u001b[33m\r0% [1 InRelease gpgv 3,626 B] [Connecting to archive.ubuntu.com (91.189.91.38)]\u001b[0m\r                                                                               \rGet:5 http://security.ubuntu.com/ubuntu bionic-security InRelease [88.7 kB]\n",
            "Hit:6 http://archive.ubuntu.com/ubuntu bionic InRelease\n",
            "Get:7 http://archive.ubuntu.com/ubuntu bionic-updates InRelease [88.7 kB]\n",
            "Hit:8 http://ppa.launchpad.net/c2d4u.team/c2d4u4.0+/ubuntu bionic InRelease\n",
            "Get:10 http://archive.ubuntu.com/ubuntu bionic-backports InRelease [83.3 kB]\n",
            "Hit:11 http://ppa.launchpad.net/cran/libgit2/ubuntu bionic InRelease\n",
            "Hit:12 http://ppa.launchpad.net/deadsnakes/ppa/ubuntu bionic InRelease\n",
            "Hit:13 http://ppa.launchpad.net/graphics-drivers/ppa/ubuntu bionic InRelease\n",
            "Fetched 261 kB in 1s (187 kB/s)\n",
            "Reading package lists... Done\n",
            "Building dependency tree       \n",
            "Reading state information... Done\n",
            "11 packages can be upgraded. Run 'apt list --upgradable' to see them.\n",
            "Looking in indexes: https://pypi.org/simple, https://us-python.pkg.dev/colab-wheels/public/simple/\n",
            "Requirement already satisfied: pyspark in /usr/local/lib/python3.7/dist-packages (3.3.1)\n",
            "Requirement already satisfied: py4j==0.10.9.5 in /usr/local/lib/python3.7/dist-packages (from pyspark) (0.10.9.5)\n"
          ]
        },
        {
          "output_type": "execute_result",
          "data": {
            "text/plain": [
              "'/content/spark-3.2.2-bin-hadoop3.2'"
            ],
            "application/vnd.google.colaboratory.intrinsic+json": {
              "type": "string"
            }
          },
          "metadata": {},
          "execution_count": 73
        }
      ],
      "source": [
        "\n",
        "#Bibliotecas para poder trabajar con Spark\n",
        "!sudo apt update\n",
        "!apt-get install openjdk-8-jdk-headless -qq > /dev/null\n",
        "!wget -q https://downloads.apache.org/spark/spark-3.2.2//spark-3.2.2-bin-hadoop3.2.tgz\n",
        "!tar xf spark-3.2.2-bin-hadoop3.2.tgz\n",
        "#Configuración de Spark con Python\n",
        "!pip install -q findspark\n",
        "!pip install pyspark\n",
        "\n",
        "#Estableciendo variable de entorno\n",
        "import os\n",
        "os.environ[\"JAVA_HOME\"] = \"/usr/lib/jvm/java-8-openjdk-amd64\"\n",
        "os.environ[\"SPARK_HOME\"] = \"/content/spark-3.2.2-bin-hadoop3.2\"\n",
        "\n",
        "#Buscando e inicializando la instalación de Spark\n",
        "import findspark\n",
        "findspark.init()\n",
        "findspark.find()"
      ]
    },
    {
      "cell_type": "markdown",
      "source": [
        "Monto mis unidades de Drive ya que en estas se encuentran los arhivos csv con los que voy a trabajar"
      ],
      "metadata": {
        "id": "Mqww7VNcp9I3"
      }
    },
    {
      "cell_type": "code",
      "source": [
        "from google.colab import drive\n",
        "\n",
        "drive.mount(\"/content/gdrive\")\n",
        "%cd \"/content/gdrive/Shareddrives/Reto AI SEPTIMO\""
      ],
      "metadata": {
        "id": "aINryx3xZHIG",
        "colab": {
          "base_uri": "https://localhost:8080/"
        },
        "outputId": "6ba23c83-e141-4cdc-cd5e-c65b31d56253"
      },
      "execution_count": 74,
      "outputs": [
        {
          "output_type": "stream",
          "name": "stdout",
          "text": [
            "Drive already mounted at /content/gdrive; to attempt to forcibly remount, call drive.mount(\"/content/gdrive\", force_remount=True).\n",
            "/content/gdrive/Shareddrives/Reto AI SEPTIMO\n"
          ]
        }
      ]
    },
    {
      "cell_type": "markdown",
      "source": [
        "Verifico que Pyspark este correctamente instalado y este sea funcional"
      ],
      "metadata": {
        "id": "memWrEL3qhZo"
      }
    },
    {
      "cell_type": "code",
      "source": [
        "#Verificar la funcionalidad de Pyspark \n",
        "from pyspark.sql import SparkSession\n",
        "from pyspark import SparkContext\n",
        "from pyspark.mllib.regression import LabeledPoint\n",
        "from pyspark.sql.functions import col\n",
        "from pyspark.sql.types import IntegerType,FloatType \n",
        "spark_session = SparkSession.builder.appName('Modulo1_Analisis').config(\"spark.driver.memory\", \"16g\").getOrCreate()\n",
        "spark_session\n"
      ],
      "metadata": {
        "id": "iKCHjWKwYVH4",
        "colab": {
          "base_uri": "https://localhost:8080/",
          "height": 221
        },
        "outputId": "56685638-ba4d-4d17-9434-4bad1f98c2a2"
      },
      "execution_count": 75,
      "outputs": [
        {
          "output_type": "execute_result",
          "data": {
            "text/plain": [
              "<pyspark.sql.session.SparkSession at 0x7f6b98c09450>"
            ],
            "text/html": [
              "\n",
              "            <div>\n",
              "                <p><b>SparkSession - in-memory</b></p>\n",
              "                \n",
              "        <div>\n",
              "            <p><b>SparkContext</b></p>\n",
              "\n",
              "            <p><a href=\"http://6d2d2c6fa193:4040\">Spark UI</a></p>\n",
              "\n",
              "            <dl>\n",
              "              <dt>Version</dt>\n",
              "                <dd><code>v3.2.2</code></dd>\n",
              "              <dt>Master</dt>\n",
              "                <dd><code>local[*]</code></dd>\n",
              "              <dt>AppName</dt>\n",
              "                <dd><code>Modulo1_Analisis</code></dd>\n",
              "            </dl>\n",
              "        </div>\n",
              "        \n",
              "            </div>\n",
              "        "
            ]
          },
          "metadata": {},
          "execution_count": 75
        }
      ]
    },
    {
      "cell_type": "markdown",
      "source": [
        "Procedo a abrir mi csv detro de mi mi spark session, siendo que el csv que voy a utilizar es un csv ya limpio que obtuvimos para nuestro reto de bloque."
      ],
      "metadata": {
        "id": "f_pIx7n6qpyB"
      }
    },
    {
      "cell_type": "code",
      "source": [
        "df_spark = spark_session.read.csv('telcom_numeric.csv')\n",
        "df_spark"
      ],
      "metadata": {
        "id": "qXiRNzUJZUri",
        "colab": {
          "base_uri": "https://localhost:8080/"
        },
        "outputId": "ffbe738f-3740-455c-d3eb-4f6a52294a11"
      },
      "execution_count": 76,
      "outputs": [
        {
          "output_type": "execute_result",
          "data": {
            "text/plain": [
              "DataFrame[_c0: string, _c1: string, _c2: string, _c3: string, _c4: string, _c5: string, _c6: string, _c7: string, _c8: string, _c9: string, _c10: string, _c11: string, _c12: string, _c13: string, _c14: string, _c15: string, _c16: string, _c17: string, _c18: string, _c19: string, _c20: string, _c21: string, _c22: string, _c23: string, _c24: string, _c25: string, _c26: string, _c27: string]"
            ]
          },
          "metadata": {},
          "execution_count": 76
        }
      ]
    },
    {
      "cell_type": "markdown",
      "source": [
        "Si bien no deberia ya porque haber datos NaN, procedo a realizar un drop nan para estar completamente seguro de esto, ya que en algunos casos esto puede llegar a causar problemas con el desarrollo del modelo"
      ],
      "metadata": {
        "id": "Cx8978GWq8F1"
      }
    },
    {
      "cell_type": "code",
      "source": [
        "\n",
        "df_spark = df_spark.na.drop(\"all\")\n"
      ],
      "metadata": {
        "id": "mUvMja1Pmxmn"
      },
      "execution_count": 77,
      "outputs": []
    },
    {
      "cell_type": "markdown",
      "source": [
        "\n",
        "Hago un show para revisar que mi archivo csv esta siendo correctamente leido, in embargo como poemos observar en este caso, n esta tomando os titulos de las columnas como headers, si no que los ingresa dentro de las rows del dataframe, por lo que esto tendra que ser correguido ya que en caso de que no se corrija, no se podra realizar la modelacion de este modelo.\n"
      ],
      "metadata": {
        "id": "daLHZ2gLrhti"
      }
    },
    {
      "cell_type": "code",
      "source": [
        "df_spark.show()"
      ],
      "metadata": {
        "id": "TApmPc2UaKFR",
        "colab": {
          "base_uri": "https://localhost:8080/"
        },
        "outputId": "46e6dd1f-ed28-4380-be16-a5907974df51"
      },
      "execution_count": 78,
      "outputs": [
        {
          "output_type": "stream",
          "name": "stdout",
          "text": [
            "+----+------+-----------+------------+------------------+------------------+--------------------+------------------+-------------+--------------+-----------+------------------+--------------------+--------------------+--------------------+--------------------+------------------+--------------------+-----------------+-------------+-------------+----------+------------+--------------------+---------------+------+--------------------+-----------------+\n",
            "| _c0|   _c1|        _c2|         _c3|               _c4|               _c5|                 _c6|               _c7|          _c8|           _c9|       _c10|              _c11|                _c12|                _c13|                _c14|                _c15|              _c16|                _c17|             _c18|         _c19|         _c20|      _c21|        _c22|                _c23|           _c24|  _c25|                _c26|             _c27|\n",
            "+----+------+-----------+------------+------------------+------------------+--------------------+------------------+-------------+--------------+-----------+------------------+--------------------+--------------------+--------------------+--------------------+------------------+--------------------+-----------------+-------------+-------------+----------+------------+--------------------+---------------+------+--------------------+-----------------+\n",
            "|null|TARGET|YEAR_JOINED|CURRENT_YEAR|       BILL_AMOUNT|       PAID_AMOUNT|PAYMENT_TRANSACTIONS|         PARTY_REV|PREPAID_LINES|POSTPAID_LINES|OTHER_LINES|          LINE_REV|MOUS_TO_LOCAL_MOB...|MOUS_FROM_LOCAL_M...|MOUS_TO_LOCAL_LAN...|MOUS_FROM_LOCAL_L...|MOUS_TO_INT_NUMBER|MOUS_FROM_INT_NUMBER|     DATA_IN_BNDL|DATA_OUT_BNDL|DATA_USG_PAYG|COMPLAINTS|Years_stayed|PTY_PROFILE_SUB_TYPE|PARTY_GENDER_CD|STATUS|SOCIO_ECONOMIC_SE...|PARTY_NATIONALITY|\n",
            "|   0|     0|       1994|        2019| 931.2089381866666| 812.1749999999998|                   1| 5968.700000000001|            2|             6|          2|            945.04|             1004.07|               35.85|              34.015|              72.075|            141.84|              56.115| 11944.0791015625|          0.0|          0.0|         0|          25|                   2|              1|     0|                   0|              179|\n",
            "|   1|     0|       1994|        2019| 431.0826183133333|             486.5|                   1| 6245.141666666666|            6|             4|          2|           493.815|              159.05|              10.595|               7.715|               11.75| 5.109999999999999|                 0.0| 9903.15771484375|          0.0|          0.0|         0|          25|                   1|              1|     0|                   0|              179|\n",
            "|   2|     0|       1994|        2019|50.619643642166665|            52.815|                   1|1666.4883333333337|            2|             3|          1|              50.3|                 0.0|                 0.0|                 0.0|                 0.0|               0.0|                 0.0|     0.1025390625|          0.0|          0.0|         0|          25|                   2|              1|     0|                   0|              179|\n",
            "|   3|     0|       1994|        2019|      399.71003444|           422.235|                   1| 2522.008333333333|            3|             4|          3| 406.5866666666666|             288.805|               158.5|                2.67|              15.965|               0.0|                 0.0|   3600.322265625|          0.0|          0.0|         0|          25|                   1|              1|     0|                   0|              179|\n",
            "|   4|     0|       1994|        2019| 612.6658442616666| 825.8883333333333|                   1|1219.9616666666666|            0|             2|          1| 751.1850000000001|              209.76|              186.05|              17.515|              28.685|3.2350000000000003|               4.475|  3852.0263671875|          0.0|          0.0|         0|          25|                   2|              1|     0|                   0|              179|\n",
            "|   5|     0|       1994|        2019|     45.1871440805| 41.10666666666666|                   1|481.02333333333326|            1|             3|          1|              45.1|                 0.0|                 0.0|                 0.0|                 0.0|               0.0|                 0.0|              0.0|          0.0|          0.0|         0|          25|                   2|              1|     0|                   0|              179|\n",
            "|   6|     0|       1994|        2019|     979.851059065|1090.2166666666665|                   1|1569.4683333333332|            0|             3|          1|1089.4816666666666|             551.905|              23.925|               46.31|              87.015| 367.0750000000001|              59.575|15812.12060546875|          0.0|          0.0|         0|          25|                   1|              1|     0|                   1|               98|\n",
            "|   7|     0|       1994|        2019| 521.7158063633334| 574.4516666666667|                   1| 2657.863333333333|            2|             3|          1| 552.1716666666666|             758.825|              438.86|   87.86500000000001|               74.97|             47.89|               0.115|  8322.6689453125|          0.0|          0.0|         0|          25|                   2|              1|     0|                   0|              179|\n",
            "|   8|     0|       1994|        2019|      495.75487575|           550.285|                   1|2187.9166666666665|            2|             5|          2|           459.495|              592.52|              60.125|               34.16|               63.49|             5.055|              21.465|  1448.6279296875|          0.0|          0.0|         0|          25|                   1|              1|     0|                   0|              179|\n",
            "|   9|     0|       1994|        2019| 479.8397672850001| 506.3333333333333|                   1|1272.2383333333332|            2|             3|          1|           513.005|              234.85|               25.91|              34.585|              17.945|               0.0|                 0.0|  8288.7158203125|          0.0|          0.0|         0|          25|                   2|              1|     0|                   0|              179|\n",
            "|  10|     0|       1994|        2019|138.20324914333332|           122.235|                   1| 5491.433333333333|            0|             5|          1|           153.705|             239.185|              20.125|  16.134999999999998|                13.4|              0.85|                 0.0|  5195.3720703125|          0.0|          0.0|         0|          25|                   2|              1|     0|                   2|              179|\n",
            "|  11|     0|       1994|        2019|244.11823227333332|            295.51|                   1|            369.46|            1|             2|          0| 347.7283333333333|              164.82|               82.61|                6.72|                2.85| 69.82499999999999|                 0.0|  527.91552734375|          0.0|          0.0|         0|          25|                   2|              1|     0|                   1|               87|\n",
            "|  12|     0|       1994|        2019| 518.2488735133334| 575.9483333333334|                   2| 590.1683333333333|            0|             2|          0| 540.1683333333333|  180.08499999999998|  164.45499999999998|                9.95|               46.85|           457.045|              16.125|              0.0|          0.0|          0.0|         0|          25|                   2|              1|     0|                   1|               87|\n",
            "|  13|     0|       1994|        2019| 18.94334595933333|24.166666666666668|                   1| 4369.669999999999|            1|             5|          3|23.166666666666668|                 0.0|                 0.0|                 0.0|                 0.0|               0.0|                 0.0|              0.0|          0.0|          0.0|         0|          25|                   2|              1|     0|                   0|              179|\n",
            "|  14|     0|       1994|        2019| 909.3535828766666| 986.3616666666668|                   1|          2013.335|            0|             4|          0|1069.6416666666669|   752.8199999999999|             673.365|              34.125|   88.66999999999999|               0.0|                0.16|  2404.9833984375|          0.0|          0.0|         0|          25|                   1|              1|     0|                   0|              179|\n",
            "|  15|     0|       1994|        2019| 737.7731700483333| 577.8333333333334|                   1|           5174.58|            8|             4|          0| 520.7966666666667|              328.45|               16.54|              32.685|               15.81|             0.335|                 0.0|    3131.44921875|          0.0|          0.0|         0|          25|                   1|              1|     0|                   0|              179|\n",
            "|  16|     0|       1994|        2019| 270.9085367966667|            283.95|                   4| 2068.623333333333|            2|             3|          2|276.81333333333333|  357.33500000000004|              38.895|               34.02|                2.14|               0.0|                 0.0|     38.642578125|          0.0|          0.0|         0|          25|                   2|              1|     0|                   0|              179|\n",
            "|  17|     0|       1994|        2019| 266.5022617516667|            267.17|                   1| 623.2116666666667|            3|             1|          1|            245.78|              169.78|               8.055|                23.5|                9.32|             11.29|                2.39|    91.9853515625|          0.0|          0.0|         0|          25|                   2|              1|     0|                   0|              179|\n",
            "|  18|     0|       1994|        2019| 51.06204739583333| 66.66666666666667|                   1|5169.4800000000005|            7|            10|          2|              50.0|                 0.0|                 0.0|                 0.0|                 0.0|               0.0|                 0.0|              0.0|          0.0|          0.0|         0|          25|                   2|              1|     0|                   0|              179|\n",
            "+----+------+-----------+------------+------------------+------------------+--------------------+------------------+-------------+--------------+-----------+------------------+--------------------+--------------------+--------------------+--------------------+------------------+--------------------+-----------------+-------------+-------------+----------+------------+--------------------+---------------+------+--------------------+-----------------+\n",
            "only showing top 20 rows\n",
            "\n"
          ]
        }
      ]
    },
    {
      "cell_type": "markdown",
      "source": [
        "En esta opcion vuelvo a leer mi archivo csv, solo que en este caso procedo a indicar que se debe tomar el primer renglon de mi archivo como los header del dataframe, esto para evitar problemas a la hora de trabajar con los datos"
      ],
      "metadata": {
        "id": "XkdbvwPLsF-o"
      }
    },
    {
      "cell_type": "code",
      "source": [
        "#La opción option('header','true')\n",
        "df_spark_col  = spark_session.read.option('header', 'true').csv('telcom_numeric.csv')\n",
        "df_spark_col"
      ],
      "metadata": {
        "id": "JZ31OYtVaPJF",
        "colab": {
          "base_uri": "https://localhost:8080/"
        },
        "outputId": "88f1bc05-39de-426e-bf9f-2a555e68a62e"
      },
      "execution_count": 79,
      "outputs": [
        {
          "output_type": "execute_result",
          "data": {
            "text/plain": [
              "DataFrame[_c0: string, TARGET: string, YEAR_JOINED: string, CURRENT_YEAR: string, BILL_AMOUNT: string, PAID_AMOUNT: string, PAYMENT_TRANSACTIONS: string, PARTY_REV: string, PREPAID_LINES: string, POSTPAID_LINES: string, OTHER_LINES: string, LINE_REV: string, MOUS_TO_LOCAL_MOBILES: string, MOUS_FROM_LOCAL_MOBILES: string, MOUS_TO_LOCAL_LANDLINES: string, MOUS_FROM_LOCAL_LANDLINES: string, MOUS_TO_INT_NUMBER: string, MOUS_FROM_INT_NUMBER: string, DATA_IN_BNDL: string, DATA_OUT_BNDL: string, DATA_USG_PAYG: string, COMPLAINTS: string, Years_stayed: string, PTY_PROFILE_SUB_TYPE: string, PARTY_GENDER_CD: string, STATUS: string, SOCIO_ECONOMIC_SEGMENT: string, PARTY_NATIONALITY: string]"
            ]
          },
          "metadata": {},
          "execution_count": 79
        }
      ]
    },
    {
      "cell_type": "code",
      "source": [
        "df_spark_col.show()"
      ],
      "metadata": {
        "id": "gG7yMlP6aRw9",
        "colab": {
          "base_uri": "https://localhost:8080/"
        },
        "outputId": "450c607b-7fae-45b5-da9c-b8a31a61f143"
      },
      "execution_count": 80,
      "outputs": [
        {
          "output_type": "stream",
          "name": "stdout",
          "text": [
            "+---+------+-----------+------------+------------------+------------------+--------------------+------------------+-------------+--------------+-----------+------------------+---------------------+-----------------------+-----------------------+-------------------------+------------------+--------------------+-----------------+-------------+-------------+----------+------------+--------------------+---------------+------+----------------------+-----------------+\n",
            "|_c0|TARGET|YEAR_JOINED|CURRENT_YEAR|       BILL_AMOUNT|       PAID_AMOUNT|PAYMENT_TRANSACTIONS|         PARTY_REV|PREPAID_LINES|POSTPAID_LINES|OTHER_LINES|          LINE_REV|MOUS_TO_LOCAL_MOBILES|MOUS_FROM_LOCAL_MOBILES|MOUS_TO_LOCAL_LANDLINES|MOUS_FROM_LOCAL_LANDLINES|MOUS_TO_INT_NUMBER|MOUS_FROM_INT_NUMBER|     DATA_IN_BNDL|DATA_OUT_BNDL|DATA_USG_PAYG|COMPLAINTS|Years_stayed|PTY_PROFILE_SUB_TYPE|PARTY_GENDER_CD|STATUS|SOCIO_ECONOMIC_SEGMENT|PARTY_NATIONALITY|\n",
            "+---+------+-----------+------------+------------------+------------------+--------------------+------------------+-------------+--------------+-----------+------------------+---------------------+-----------------------+-----------------------+-------------------------+------------------+--------------------+-----------------+-------------+-------------+----------+------------+--------------------+---------------+------+----------------------+-----------------+\n",
            "|  0|     0|       1994|        2019| 931.2089381866666| 812.1749999999998|                   1| 5968.700000000001|            2|             6|          2|            945.04|              1004.07|                  35.85|                 34.015|                   72.075|            141.84|              56.115| 11944.0791015625|          0.0|          0.0|         0|          25|                   2|              1|     0|                     0|              179|\n",
            "|  1|     0|       1994|        2019| 431.0826183133333|             486.5|                   1| 6245.141666666666|            6|             4|          2|           493.815|               159.05|                 10.595|                  7.715|                    11.75| 5.109999999999999|                 0.0| 9903.15771484375|          0.0|          0.0|         0|          25|                   1|              1|     0|                     0|              179|\n",
            "|  2|     0|       1994|        2019|50.619643642166665|            52.815|                   1|1666.4883333333337|            2|             3|          1|              50.3|                  0.0|                    0.0|                    0.0|                      0.0|               0.0|                 0.0|     0.1025390625|          0.0|          0.0|         0|          25|                   2|              1|     0|                     0|              179|\n",
            "|  3|     0|       1994|        2019|      399.71003444|           422.235|                   1| 2522.008333333333|            3|             4|          3| 406.5866666666666|              288.805|                  158.5|                   2.67|                   15.965|               0.0|                 0.0|   3600.322265625|          0.0|          0.0|         0|          25|                   1|              1|     0|                     0|              179|\n",
            "|  4|     0|       1994|        2019| 612.6658442616666| 825.8883333333333|                   1|1219.9616666666666|            0|             2|          1| 751.1850000000001|               209.76|                 186.05|                 17.515|                   28.685|3.2350000000000003|               4.475|  3852.0263671875|          0.0|          0.0|         0|          25|                   2|              1|     0|                     0|              179|\n",
            "|  5|     0|       1994|        2019|     45.1871440805| 41.10666666666666|                   1|481.02333333333326|            1|             3|          1|              45.1|                  0.0|                    0.0|                    0.0|                      0.0|               0.0|                 0.0|              0.0|          0.0|          0.0|         0|          25|                   2|              1|     0|                     0|              179|\n",
            "|  6|     0|       1994|        2019|     979.851059065|1090.2166666666665|                   1|1569.4683333333332|            0|             3|          1|1089.4816666666666|              551.905|                 23.925|                  46.31|                   87.015| 367.0750000000001|              59.575|15812.12060546875|          0.0|          0.0|         0|          25|                   1|              1|     0|                     1|               98|\n",
            "|  7|     0|       1994|        2019| 521.7158063633334| 574.4516666666667|                   1| 2657.863333333333|            2|             3|          1| 552.1716666666666|              758.825|                 438.86|      87.86500000000001|                    74.97|             47.89|               0.115|  8322.6689453125|          0.0|          0.0|         0|          25|                   2|              1|     0|                     0|              179|\n",
            "|  8|     0|       1994|        2019|      495.75487575|           550.285|                   1|2187.9166666666665|            2|             5|          2|           459.495|               592.52|                 60.125|                  34.16|                    63.49|             5.055|              21.465|  1448.6279296875|          0.0|          0.0|         0|          25|                   1|              1|     0|                     0|              179|\n",
            "|  9|     0|       1994|        2019| 479.8397672850001| 506.3333333333333|                   1|1272.2383333333332|            2|             3|          1|           513.005|               234.85|                  25.91|                 34.585|                   17.945|               0.0|                 0.0|  8288.7158203125|          0.0|          0.0|         0|          25|                   2|              1|     0|                     0|              179|\n",
            "| 10|     0|       1994|        2019|138.20324914333332|           122.235|                   1| 5491.433333333333|            0|             5|          1|           153.705|              239.185|                 20.125|     16.134999999999998|                     13.4|              0.85|                 0.0|  5195.3720703125|          0.0|          0.0|         0|          25|                   2|              1|     0|                     2|              179|\n",
            "| 11|     0|       1994|        2019|244.11823227333332|            295.51|                   1|            369.46|            1|             2|          0| 347.7283333333333|               164.82|                  82.61|                   6.72|                     2.85| 69.82499999999999|                 0.0|  527.91552734375|          0.0|          0.0|         0|          25|                   2|              1|     0|                     1|               87|\n",
            "| 12|     0|       1994|        2019| 518.2488735133334| 575.9483333333334|                   2| 590.1683333333333|            0|             2|          0| 540.1683333333333|   180.08499999999998|     164.45499999999998|                   9.95|                    46.85|           457.045|              16.125|              0.0|          0.0|          0.0|         0|          25|                   2|              1|     0|                     1|               87|\n",
            "| 13|     0|       1994|        2019| 18.94334595933333|24.166666666666668|                   1| 4369.669999999999|            1|             5|          3|23.166666666666668|                  0.0|                    0.0|                    0.0|                      0.0|               0.0|                 0.0|              0.0|          0.0|          0.0|         0|          25|                   2|              1|     0|                     0|              179|\n",
            "| 14|     0|       1994|        2019| 909.3535828766666| 986.3616666666668|                   1|          2013.335|            0|             4|          0|1069.6416666666669|    752.8199999999999|                673.365|                 34.125|        88.66999999999999|               0.0|                0.16|  2404.9833984375|          0.0|          0.0|         0|          25|                   1|              1|     0|                     0|              179|\n",
            "| 15|     0|       1994|        2019| 737.7731700483333| 577.8333333333334|                   1|           5174.58|            8|             4|          0| 520.7966666666667|               328.45|                  16.54|                 32.685|                    15.81|             0.335|                 0.0|    3131.44921875|          0.0|          0.0|         0|          25|                   1|              1|     0|                     0|              179|\n",
            "| 16|     0|       1994|        2019| 270.9085367966667|            283.95|                   4| 2068.623333333333|            2|             3|          2|276.81333333333333|   357.33500000000004|                 38.895|                  34.02|                     2.14|               0.0|                 0.0|     38.642578125|          0.0|          0.0|         0|          25|                   2|              1|     0|                     0|              179|\n",
            "| 17|     0|       1994|        2019| 266.5022617516667|            267.17|                   1| 623.2116666666667|            3|             1|          1|            245.78|               169.78|                  8.055|                   23.5|                     9.32|             11.29|                2.39|    91.9853515625|          0.0|          0.0|         0|          25|                   2|              1|     0|                     0|              179|\n",
            "| 18|     0|       1994|        2019| 51.06204739583333| 66.66666666666667|                   1|5169.4800000000005|            7|            10|          2|              50.0|                  0.0|                    0.0|                    0.0|                      0.0|               0.0|                 0.0|              0.0|          0.0|          0.0|         0|          25|                   2|              1|     0|                     0|              179|\n",
            "| 19|     0|       1994|        2019| 93.02646267133332|114.48333333333332|                   1|3324.7183333333337|            6|             3|          2|117.78833333333334|              170.385|                  67.21|                   9.14|                     2.48|             0.185|                 0.0|          94.6875|          0.0|          0.0|         0|          25|                   2|              1|     5|                     0|              179|\n",
            "+---+------+-----------+------------+------------------+------------------+--------------------+------------------+-------------+--------------+-----------+------------------+---------------------+-----------------------+-----------------------+-------------------------+------------------+--------------------+-----------------+-------------+-------------+----------+------------+--------------------+---------------+------+----------------------+-----------------+\n",
            "only showing top 20 rows\n",
            "\n"
          ]
        }
      ]
    },
    {
      "cell_type": "markdown",
      "source": [
        "Ahora si bien es cierto que ya reparamos los headers le dataframe, podemos obsevar que las columnas no tienen definido el correcto tipo de dato, siendo que todas fueron identificadas como si fueran de tipo string"
      ],
      "metadata": {
        "id": "5tBVBAIOs-BL"
      }
    },
    {
      "cell_type": "code",
      "source": [
        "df_spark_col.printSchema()"
      ],
      "metadata": {
        "id": "uvEGwcdAaU3J",
        "colab": {
          "base_uri": "https://localhost:8080/"
        },
        "outputId": "84e74cd3-97f3-4089-a26f-9a268228c0d4"
      },
      "execution_count": 81,
      "outputs": [
        {
          "output_type": "stream",
          "name": "stdout",
          "text": [
            "root\n",
            " |-- _c0: string (nullable = true)\n",
            " |-- TARGET: string (nullable = true)\n",
            " |-- YEAR_JOINED: string (nullable = true)\n",
            " |-- CURRENT_YEAR: string (nullable = true)\n",
            " |-- BILL_AMOUNT: string (nullable = true)\n",
            " |-- PAID_AMOUNT: string (nullable = true)\n",
            " |-- PAYMENT_TRANSACTIONS: string (nullable = true)\n",
            " |-- PARTY_REV: string (nullable = true)\n",
            " |-- PREPAID_LINES: string (nullable = true)\n",
            " |-- POSTPAID_LINES: string (nullable = true)\n",
            " |-- OTHER_LINES: string (nullable = true)\n",
            " |-- LINE_REV: string (nullable = true)\n",
            " |-- MOUS_TO_LOCAL_MOBILES: string (nullable = true)\n",
            " |-- MOUS_FROM_LOCAL_MOBILES: string (nullable = true)\n",
            " |-- MOUS_TO_LOCAL_LANDLINES: string (nullable = true)\n",
            " |-- MOUS_FROM_LOCAL_LANDLINES: string (nullable = true)\n",
            " |-- MOUS_TO_INT_NUMBER: string (nullable = true)\n",
            " |-- MOUS_FROM_INT_NUMBER: string (nullable = true)\n",
            " |-- DATA_IN_BNDL: string (nullable = true)\n",
            " |-- DATA_OUT_BNDL: string (nullable = true)\n",
            " |-- DATA_USG_PAYG: string (nullable = true)\n",
            " |-- COMPLAINTS: string (nullable = true)\n",
            " |-- Years_stayed: string (nullable = true)\n",
            " |-- PTY_PROFILE_SUB_TYPE: string (nullable = true)\n",
            " |-- PARTY_GENDER_CD: string (nullable = true)\n",
            " |-- STATUS: string (nullable = true)\n",
            " |-- SOCIO_ECONOMIC_SEGMENT: string (nullable = true)\n",
            " |-- PARTY_NATIONALITY: string (nullable = true)\n",
            "\n"
          ]
        }
      ]
    },
    {
      "cell_type": "markdown",
      "source": [
        "En este ciclo for se procede a realizar la transformacion del tipo de variable sus respectivas columnas, ya que spark esta leyendo todas como string y necesito que estas esten en su respectivo tipo de variable ya sea Float o Int, para que el modelo pueda trabajar de Buena manera con ellas"
      ],
      "metadata": {
        "id": "XNX5yFllvCMy"
      }
    },
    {
      "cell_type": "code",
      "source": [
        "for column in df_spark_col.columns:\n",
        "  if column not in [\"_c0\", \"TARGET\", \"YEAR_JOINED\", \"CURRENT_YEAR\", \"PAYMENT_TRANSACTIONS\", \"PREPAID_LINES\", \"POSTPAID_LINES\", \"OTHER_LINES\", \"COMPLAINTS\", \"PARTY_GENDER_CD\", \"STATUS\", \"SOCIO_ECONOMIC_SEGMENT\", \"PARTY_NATIONALITY\"]:\n",
        "    df_spark_col = df_spark_col.withColumn(column, col(column).cast(FloatType()))\n",
        "  else:\n",
        "    df_spark_col = df_spark_col.withColumn(column, col(column).cast(IntegerType()))\n",
        "\n",
        "\n",
        "df_spark_col.show()"
      ],
      "metadata": {
        "id": "kFGpaxZ-aWhx",
        "colab": {
          "base_uri": "https://localhost:8080/"
        },
        "outputId": "de89750b-3819-43a2-920e-592229fe2ee2"
      },
      "execution_count": 82,
      "outputs": [
        {
          "output_type": "stream",
          "name": "stdout",
          "text": [
            "+---+------+-----------+------------+-----------+-----------+--------------------+---------+-------------+--------------+-----------+---------+---------------------+-----------------------+-----------------------+-------------------------+------------------+--------------------+------------+-------------+-------------+----------+------------+--------------------+---------------+------+----------------------+-----------------+\n",
            "|_c0|TARGET|YEAR_JOINED|CURRENT_YEAR|BILL_AMOUNT|PAID_AMOUNT|PAYMENT_TRANSACTIONS|PARTY_REV|PREPAID_LINES|POSTPAID_LINES|OTHER_LINES| LINE_REV|MOUS_TO_LOCAL_MOBILES|MOUS_FROM_LOCAL_MOBILES|MOUS_TO_LOCAL_LANDLINES|MOUS_FROM_LOCAL_LANDLINES|MOUS_TO_INT_NUMBER|MOUS_FROM_INT_NUMBER|DATA_IN_BNDL|DATA_OUT_BNDL|DATA_USG_PAYG|COMPLAINTS|Years_stayed|PTY_PROFILE_SUB_TYPE|PARTY_GENDER_CD|STATUS|SOCIO_ECONOMIC_SEGMENT|PARTY_NATIONALITY|\n",
            "+---+------+-----------+------------+-----------+-----------+--------------------+---------+-------------+--------------+-----------+---------+---------------------+-----------------------+-----------------------+-------------------------+------------------+--------------------+------------+-------------+-------------+----------+------------+--------------------+---------------+------+----------------------+-----------------+\n",
            "|  0|     0|       1994|        2019|   931.2089|    812.175|                   1|   5968.7|            2|             6|          2|   945.04|              1004.07|                  35.85|                 34.015|                   72.075|            141.84|              56.115|   11944.079|          0.0|          0.0|         0|        25.0|                 2.0|              1|     0|                     0|              179|\n",
            "|  1|     0|       1994|        2019|   431.0826|      486.5|                   1|6245.1416|            6|             4|          2|  493.815|               159.05|                 10.595|                  7.715|                    11.75|              5.11|                 0.0|    9903.158|          0.0|          0.0|         0|        25.0|                 1.0|              1|     0|                     0|              179|\n",
            "|  2|     0|       1994|        2019|  50.619644|     52.815|                   1|1666.4883|            2|             3|          1|     50.3|                  0.0|                    0.0|                    0.0|                      0.0|               0.0|                 0.0|  0.10253906|          0.0|          0.0|         0|        25.0|                 2.0|              1|     0|                     0|              179|\n",
            "|  3|     0|       1994|        2019|  399.71002|    422.235|                   1|2522.0083|            3|             4|          3|406.58667|              288.805|                  158.5|                   2.67|                   15.965|               0.0|                 0.0|   3600.3223|          0.0|          0.0|         0|        25.0|                 1.0|              1|     0|                     0|              179|\n",
            "|  4|     0|       1994|        2019|  612.66583|   825.8883|                   1|1219.9617|            0|             2|          1|  751.185|               209.76|                 186.05|                 17.515|                   28.685|             3.235|               4.475|   3852.0264|          0.0|          0.0|         0|        25.0|                 2.0|              1|     0|                     0|              179|\n",
            "|  5|     0|       1994|        2019|  45.187145|  41.106667|                   1|481.02335|            1|             3|          1|     45.1|                  0.0|                    0.0|                    0.0|                      0.0|               0.0|                 0.0|         0.0|          0.0|          0.0|         0|        25.0|                 2.0|              1|     0|                     0|              179|\n",
            "|  6|     0|       1994|        2019|   979.8511|  1090.2167|                   1|1569.4684|            0|             3|          1|1089.4817|              551.905|                 23.925|                  46.31|                   87.015|           367.075|              59.575|   15812.121|          0.0|          0.0|         0|        25.0|                 1.0|              1|     0|                     1|               98|\n",
            "|  7|     0|       1994|        2019|   521.7158|  574.45166|                   1|2657.8633|            2|             3|          1| 552.1717|              758.825|                 438.86|                 87.865|                    74.97|             47.89|               0.115|    8322.669|          0.0|          0.0|         0|        25.0|                 2.0|              1|     0|                     0|              179|\n",
            "|  8|     0|       1994|        2019|  495.75488|    550.285|                   1|2187.9167|            2|             5|          2|  459.495|               592.52|                 60.125|                  34.16|                    63.49|             5.055|              21.465|   1448.6279|          0.0|          0.0|         0|        25.0|                 1.0|              1|     0|                     0|              179|\n",
            "|  9|     0|       1994|        2019|  479.83975|  506.33334|                   1|1272.2383|            2|             3|          1|  513.005|               234.85|                  25.91|                 34.585|                   17.945|               0.0|                 0.0|    8288.716|          0.0|          0.0|         0|        25.0|                 2.0|              1|     0|                     0|              179|\n",
            "| 10|     0|       1994|        2019|  138.20325|    122.235|                   1| 5491.433|            0|             5|          1|  153.705|              239.185|                 20.125|                 16.135|                     13.4|              0.85|                 0.0|    5195.372|          0.0|          0.0|         0|        25.0|                 2.0|              1|     0|                     2|              179|\n",
            "| 11|     0|       1994|        2019|  244.11823|     295.51|                   1|   369.46|            1|             2|          0|347.72833|               164.82|                  82.61|                   6.72|                     2.85|            69.825|                 0.0|    527.9155|          0.0|          0.0|         0|        25.0|                 2.0|              1|     0|                     1|               87|\n",
            "| 12|     0|       1994|        2019|   518.2489|   575.9483|                   2|590.16833|            0|             2|          0|540.16833|              180.085|                164.455|                   9.95|                    46.85|           457.045|              16.125|         0.0|          0.0|          0.0|         0|        25.0|                 2.0|              1|     0|                     1|               87|\n",
            "| 13|     0|       1994|        2019|  18.943346|  24.166666|                   1|  4369.67|            1|             5|          3|23.166666|                  0.0|                    0.0|                    0.0|                      0.0|               0.0|                 0.0|         0.0|          0.0|          0.0|         0|        25.0|                 2.0|              1|     0|                     0|              179|\n",
            "| 14|     0|       1994|        2019|   909.3536|   986.3617|                   1| 2013.335|            0|             4|          0|1069.6417|               752.82|                673.365|                 34.125|                    88.67|               0.0|                0.16|   2404.9834|          0.0|          0.0|         0|        25.0|                 1.0|              1|     0|                     0|              179|\n",
            "| 15|     0|       1994|        2019|   737.7732|   577.8333|                   1|  5174.58|            8|             4|          0| 520.7967|               328.45|                  16.54|                 32.685|                    15.81|             0.335|                 0.0|   3131.4492|          0.0|          0.0|         0|        25.0|                 1.0|              1|     0|                     0|              179|\n",
            "| 16|     0|       1994|        2019|  270.90854|     283.95|                   4|2068.6233|            2|             3|          2|276.81332|              357.335|                 38.895|                  34.02|                     2.14|               0.0|                 0.0|    38.64258|          0.0|          0.0|         0|        25.0|                 2.0|              1|     0|                     0|              179|\n",
            "| 17|     0|       1994|        2019|  266.50226|     267.17|                   1| 623.2117|            3|             1|          1|   245.78|               169.78|                  8.055|                   23.5|                     9.32|             11.29|                2.39|    91.98535|          0.0|          0.0|         0|        25.0|                 2.0|              1|     0|                     0|              179|\n",
            "| 18|     0|       1994|        2019|  51.062046|  66.666664|                   1|  5169.48|            7|            10|          2|     50.0|                  0.0|                    0.0|                    0.0|                      0.0|               0.0|                 0.0|         0.0|          0.0|          0.0|         0|        25.0|                 2.0|              1|     0|                     0|              179|\n",
            "| 19|     0|       1994|        2019|   93.02647|  114.48333|                   1|3324.7183|            6|             3|          2|117.78833|              170.385|                  67.21|                   9.14|                     2.48|             0.185|                 0.0|     94.6875|          0.0|          0.0|         0|        25.0|                 2.0|              1|     5|                     0|              179|\n",
            "+---+------+-----------+------------+-----------+-----------+--------------------+---------+-------------+--------------+-----------+---------+---------------------+-----------------------+-----------------------+-------------------------+------------------+--------------------+------------+-------------+-------------+----------+------------+--------------------+---------------+------+----------------------+-----------------+\n",
            "only showing top 20 rows\n",
            "\n"
          ]
        }
      ]
    },
    {
      "cell_type": "markdown",
      "source": [
        "Procedemos comprobar que el cambio se haya realizado de manera correcta, y como se puede ver si fue asi"
      ],
      "metadata": {
        "id": "tAVAG2vHvQd3"
      }
    },
    {
      "cell_type": "code",
      "source": [
        "df_spark_col.printSchema()"
      ],
      "metadata": {
        "id": "3b8L0C9EaYM4",
        "colab": {
          "base_uri": "https://localhost:8080/"
        },
        "outputId": "e0021f22-c87b-4b8c-c95e-8f11d5018abc"
      },
      "execution_count": 83,
      "outputs": [
        {
          "output_type": "stream",
          "name": "stdout",
          "text": [
            "root\n",
            " |-- _c0: integer (nullable = true)\n",
            " |-- TARGET: integer (nullable = true)\n",
            " |-- YEAR_JOINED: integer (nullable = true)\n",
            " |-- CURRENT_YEAR: integer (nullable = true)\n",
            " |-- BILL_AMOUNT: float (nullable = true)\n",
            " |-- PAID_AMOUNT: float (nullable = true)\n",
            " |-- PAYMENT_TRANSACTIONS: integer (nullable = true)\n",
            " |-- PARTY_REV: float (nullable = true)\n",
            " |-- PREPAID_LINES: integer (nullable = true)\n",
            " |-- POSTPAID_LINES: integer (nullable = true)\n",
            " |-- OTHER_LINES: integer (nullable = true)\n",
            " |-- LINE_REV: float (nullable = true)\n",
            " |-- MOUS_TO_LOCAL_MOBILES: float (nullable = true)\n",
            " |-- MOUS_FROM_LOCAL_MOBILES: float (nullable = true)\n",
            " |-- MOUS_TO_LOCAL_LANDLINES: float (nullable = true)\n",
            " |-- MOUS_FROM_LOCAL_LANDLINES: float (nullable = true)\n",
            " |-- MOUS_TO_INT_NUMBER: float (nullable = true)\n",
            " |-- MOUS_FROM_INT_NUMBER: float (nullable = true)\n",
            " |-- DATA_IN_BNDL: float (nullable = true)\n",
            " |-- DATA_OUT_BNDL: float (nullable = true)\n",
            " |-- DATA_USG_PAYG: float (nullable = true)\n",
            " |-- COMPLAINTS: integer (nullable = true)\n",
            " |-- Years_stayed: float (nullable = true)\n",
            " |-- PTY_PROFILE_SUB_TYPE: float (nullable = true)\n",
            " |-- PARTY_GENDER_CD: integer (nullable = true)\n",
            " |-- STATUS: integer (nullable = true)\n",
            " |-- SOCIO_ECONOMIC_SEGMENT: integer (nullable = true)\n",
            " |-- PARTY_NATIONALITY: integer (nullable = true)\n",
            "\n"
          ]
        }
      ]
    },
    {
      "cell_type": "markdown",
      "source": [
        "En esta parte procedemos a convertir ahora nuestro dataframe de pyspark a un tipo de dataframe RDD, para con esto poder hacer uso de la libreria de Milib para realizar las predicciones y modelos que se requieren, ya que el modelo con el que voy a trabajar es SVMWithSGD"
      ],
      "metadata": {
        "id": "jKfqpSnUvYvJ"
      }
    },
    {
      "cell_type": "code",
      "source": [
        "df_RDD = df_spark_col.rdd.map(lambda x: LabeledPoint(x[1], x[2:]))\n",
        "df_RDD.take(10)"
      ],
      "metadata": {
        "id": "H3BLQZ59aaNI",
        "colab": {
          "base_uri": "https://localhost:8080/"
        },
        "outputId": "0d8876c3-4dd5-4811-a29b-2fc866e16880"
      },
      "execution_count": 84,
      "outputs": [
        {
          "output_type": "execute_result",
          "data": {
            "text/plain": [
              "[LabeledPoint(0.0, [1994.0,2019.0,931.2089233398438,812.1749877929688,1.0,5968.7001953125,2.0,6.0,2.0,945.0399780273438,1004.0700073242188,35.849998474121094,34.01499938964844,72.07499694824219,141.83999633789062,56.1150016784668,11944.0791015625,0.0,0.0,0.0,25.0,2.0,1.0,0.0,0.0,179.0]),\n",
              " LabeledPoint(0.0, [1994.0,2019.0,431.0826110839844,486.5,1.0,6245.1416015625,6.0,4.0,2.0,493.81500244140625,159.0500030517578,10.595000267028809,7.715000152587891,11.75,5.110000133514404,0.0,9903.158203125,0.0,0.0,0.0,25.0,1.0,1.0,0.0,0.0,179.0]),\n",
              " LabeledPoint(0.0, [1994.0,2019.0,50.61964416503906,52.814998626708984,1.0,1666.48828125,2.0,3.0,1.0,50.29999923706055,0.0,0.0,0.0,0.0,0.0,0.0,0.1025390625,0.0,0.0,0.0,25.0,2.0,1.0,0.0,0.0,179.0]),\n",
              " LabeledPoint(0.0, [1994.0,2019.0,399.71002197265625,422.2349853515625,1.0,2522.00830078125,3.0,4.0,3.0,406.586669921875,288.80499267578125,158.5,2.6700000762939453,15.96500015258789,0.0,0.0,3600.322265625,0.0,0.0,0.0,25.0,1.0,1.0,0.0,0.0,179.0]),\n",
              " LabeledPoint(0.0, [1994.0,2019.0,612.6658325195312,825.8883056640625,1.0,1219.961669921875,0.0,2.0,1.0,751.1849975585938,209.75999450683594,186.0500030517578,17.514999389648438,28.684999465942383,3.234999895095825,4.474999904632568,3852.0263671875,0.0,0.0,0.0,25.0,2.0,1.0,0.0,0.0,179.0]),\n",
              " LabeledPoint(0.0, [1994.0,2019.0,45.1871452331543,41.106666564941406,1.0,481.0233459472656,1.0,3.0,1.0,45.099998474121094,0.0,0.0,0.0,0.0,0.0,0.0,0.0,0.0,0.0,0.0,25.0,2.0,1.0,0.0,0.0,179.0]),\n",
              " LabeledPoint(0.0, [1994.0,2019.0,979.85107421875,1090.2166748046875,1.0,1569.4683837890625,0.0,3.0,1.0,1089.481689453125,551.905029296875,23.924999237060547,46.310001373291016,87.01499938964844,367.07501220703125,59.57500076293945,15812.12109375,0.0,0.0,0.0,25.0,1.0,1.0,0.0,1.0,98.0]),\n",
              " LabeledPoint(0.0, [1994.0,2019.0,521.7158203125,574.45166015625,1.0,2657.86328125,2.0,3.0,1.0,552.1716918945312,758.8250122070312,438.8599853515625,87.86499786376953,74.97000122070312,47.88999938964844,0.11500000208616257,8322.6689453125,0.0,0.0,0.0,25.0,2.0,1.0,0.0,0.0,179.0]),\n",
              " LabeledPoint(0.0, [1994.0,2019.0,495.7548828125,550.2849731445312,1.0,2187.916748046875,2.0,5.0,2.0,459.4949951171875,592.52001953125,60.125,34.15999984741211,63.4900016784668,5.054999828338623,21.46500015258789,1448.6279296875,0.0,0.0,0.0,25.0,1.0,1.0,0.0,0.0,179.0]),\n",
              " LabeledPoint(0.0, [1994.0,2019.0,479.8397521972656,506.3333435058594,1.0,1272.23828125,2.0,3.0,1.0,513.0050048828125,234.85000610351562,25.90999984741211,34.584999084472656,17.94499969482422,0.0,0.0,8288.7158203125,0.0,0.0,0.0,25.0,2.0,1.0,0.0,0.0,179.0])]"
            ]
          },
          "metadata": {},
          "execution_count": 84
        }
      ]
    },
    {
      "cell_type": "markdown",
      "source": [
        "Procedo a dividir mi dataframe en test y train para poder realizar comprobar el modelo que se va a realizar"
      ],
      "metadata": {
        "id": "Xj_qAK5Kvt2I"
      }
    },
    {
      "cell_type": "code",
      "source": [
        "# Split the data into training and test sets (30% held out for testing)\n",
        "(trainingData, testData) = df_RDD.randomSplit([0.7,0.3])"
      ],
      "metadata": {
        "id": "3XogeJTiadmb"
      },
      "execution_count": 85,
      "outputs": []
    },
    {
      "cell_type": "markdown",
      "source": [
        "Procedo a realizar un modelo de clasificacion de mi dataframe, con ayuda de la funcion de SVMWithSGD, de Milib.\n",
        "\n",
        "SVMWithSGD\n",
        "\n",
        "`class pyspark.mllib.classification.SVMWithSGD`\n",
        "\n",
        "    Train a Support Vector Machine (SVM) using Stochastic Gradient Descent.\n",
        "\n",
        "Methods\n",
        "\n",
        ">  `train(data[, iterations, step, regParam, …])`\n",
        "\n",
        "> `Train a support vector machine on the given data.`\n",
        "\n"
      ],
      "metadata": {
        "id": "jwK9mxS0wXYi"
      }
    },
    {
      "cell_type": "code",
      "source": [
        "from pyspark.mllib.classification import SVMWithSGD, SVMModel\n",
        "from pyspark.mllib.regression import LabeledPoint\n",
        "from sklearn.model_selection import GroupKFold\n",
        "group_kfold = GroupKFold(n_splits=3)\n",
        "\n",
        "\n",
        "\n",
        "model = SVMWithSGD.train(trainingData, iterations=100, validateData=True )"
      ],
      "metadata": {
        "id": "Om138iRQiKiS"
      },
      "execution_count": 102,
      "outputs": []
    },
    {
      "cell_type": "code",
      "source": [
        "model"
      ],
      "metadata": {
        "id": "Zj9t1gpckomv",
        "colab": {
          "base_uri": "https://localhost:8080/"
        },
        "outputId": "068a1d28-920e-48b3-bfb3-7b26793f85e6"
      },
      "execution_count": 103,
      "outputs": [
        {
          "output_type": "execute_result",
          "data": {
            "text/plain": [
              "(weights=[-18.274770463685783,-20.977323475640322,-99.31735446206199,-103.44815146765865,-0.019896335321796094,-37.42605917800176,1.3225514017104043,2.5656716550333134,0.21597183346788537,-101.47086476315198,-153.9717001807474,-44.881553902151474,-7.220486861084685,-10.216310128598701,-0.6047677959247895,-2.1603057191347896,-463.42242940111714,-0.00775792667769711,-76.72075827804996,-0.0023338679649950412,-2.7025530119544516,-0.026886825963838235,0.013679448247994455,0.22821521663452074,0.11100246705339016,-9.847619441015086], intercept=0.0)"
            ]
          },
          "metadata": {},
          "execution_count": 103
        }
      ]
    },
    {
      "cell_type": "markdown",
      "source": [
        "En esta parte procedo a realizar las predicciones del modelo en la parte de \n",
        "\n",
        "`predict = testData.map(lambda ad: (ad.label, model.predict(ad.features)))`\n",
        "\n",
        "para posteriormente observar el numer de ValidationAds dentro de testData, y comparalos con los datos predichos por mi modelo y asi imprimir cuales de esos fueron predichos de manera correcta, siendo que despues se puede notar como el modelo tuvo un accuaracy de 94% a la hora de realizar predicciones"
      ],
      "metadata": {
        "id": "8KOMSKskN7sa"
      }
    },
    {
      "cell_type": "code",
      "source": [
        "predict = testData.map(lambda ad: (ad.label, model.predict(ad.features)))\n",
        "print('prediction: ', predict)\n",
        "predict.take(10)\n",
        "\n",
        "\n",
        "totalValidationAds = testData.count()\n",
        "print('totalValidationAds: ', totalValidationAds)\n",
        "\n",
        "correctlyPredicted = predict.filter(lambda x: x[0] == x[1]).count()\n",
        "print('correctlyPredicted: ', correctlyPredicted)\n",
        "\n",
        "accuracy = float(correctlyPredicted)/totalValidationAds\n",
        "print('accuracy: ', accuracy)\n"
      ],
      "metadata": {
        "colab": {
          "base_uri": "https://localhost:8080/"
        },
        "id": "B1lSZWd3jtlV",
        "outputId": "b81c702c-6a57-4260-fdeb-0edda9aedeee"
      },
      "execution_count": 104,
      "outputs": [
        {
          "output_type": "stream",
          "name": "stdout",
          "text": [
            "prediction:  PythonRDD[958] at RDD at PythonRDD.scala:53\n",
            "totalValidationAds:  342054\n",
            "correctlyPredicted:  324207\n",
            "accuracy:  0.9478240277850866\n"
          ]
        }
      ]
    },
    {
      "cell_type": "markdown",
      "source": [
        "Procedemo a calcular el error que existe en nuestro modelo para saber la fiabilidad del mismo"
      ],
      "metadata": {
        "id": "9okqnYSixOIU"
      }
    },
    {
      "cell_type": "code",
      "source": [
        "labelsAndPreds = testData.map(lambda p: (p.label, model.predict(p.features)))\n",
        "trainErr = labelsAndPreds.filter(lambda lp: lp[0] != lp[1]).count() / float(testData.count())\n",
        "print(\"Training Error = \" + str(trainErr))"
      ],
      "metadata": {
        "colab": {
          "base_uri": "https://localhost:8080/"
        },
        "id": "eLncUJxXxcji",
        "outputId": "0ca5ac98-aff4-4ea7-cf18-c7181908a1dc"
      },
      "execution_count": 105,
      "outputs": [
        {
          "output_type": "stream",
          "name": "stdout",
          "text": [
            "Training Error = 0.052175972214913435\n"
          ]
        }
      ]
    }
  ]
}